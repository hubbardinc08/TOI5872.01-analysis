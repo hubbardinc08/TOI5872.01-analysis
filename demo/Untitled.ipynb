{
 "cells": [
  {
   "cell_type": "code",
   "execution_count": 13,
   "id": "480d78b0-830b-482d-a174-50f9270143fb",
   "metadata": {},
   "outputs": [],
   "source": [
    "alist = [4.8876, 1.0345, 4.2984, 0.1656, 2.2039, 0.4908, 4.7570, 1.8797, 0.8122, 1.9546, 5.0934, 5.6797, 1.2582, 1.7063, 5.0978, 0.2280, -1.7853, 3.4253, 1.3541, 3.8647, 4.8837, 1.0028, -0.7303, 0.8030, 4.7001, 0.6133, 3.4079, 1.2676, 4.5422, 2.9231]"
   ]
  },
  {
   "cell_type": "code",
   "execution_count": null,
   "id": "e1ceb744-ae5e-42fc-b9bb-32b7341bf535",
   "metadata": {},
   "outputs": [],
   "source": []
  },
  {
   "cell_type": "code",
   "execution_count": 14,
   "id": "34729f9f-220c-47a5-9638-844bad9f17a4",
   "metadata": {},
   "outputs": [],
   "source": [
    "import matplotlib.pyplot as plt\n",
    "import numpy as np"
   ]
  },
  {
   "cell_type": "code",
   "execution_count": 15,
   "id": "5584c157-8ec1-4530-b8e8-2baced540826",
   "metadata": {},
   "outputs": [
    {
     "data": {
      "text/plain": [
       "(array([1., 1., 2., 6., 5., 2., 3., 1., 6., 3.]),\n",
       " array([-1.7853, -1.0388, -0.2923,  0.4542,  1.2007,  1.9472,  2.6937,\n",
       "         3.4402,  4.1867,  4.9332,  5.6797]),\n",
       " <BarContainer object of 10 artists>)"
      ]
     },
     "execution_count": 15,
     "metadata": {},
     "output_type": "execute_result"
    },
    {
     "data": {
      "image/png": "[encoded data removed]",
      "text/plain": [
       "<Figure size 640x480 with 1 Axes>"
      ]
     },
     "metadata": {},
     "output_type": "display_data"
    }
   ],
   "source": [
    "plt.hist(alist)"
   ]
  },
  {
   "cell_type": "code",
   "execution_count": 17,
   "id": "7bdbc67d-1adf-464f-a9d7-34ff7c01a42a",
   "metadata": {},
   "outputs": [
    {
     "name": "stdout",
     "output_type": "stream",
     "text": [
      "1.91715\n"
     ]
    }
   ],
   "source": [
    "print(np.median(alist))"
   ]
  },
  {
   "cell_type": "code",
   "execution_count": null,
   "id": "622e40d9-cc6a-4ae5-9212-900821d2f6a0",
   "metadata": {},
   "outputs": [],
   "source": []
  }
 ],
 "metadata": {
  "kernelspec": {
   "display_name": "Python 3 (ipykernel)",
   "language": "python",
   "name": "python3"
  },
  "language_info": {
   "codemirror_mode": {
    "name": "ipython",
    "version": 3
   },
   "file_extension": ".py",
   "mimetype": "text/x-python",
   "name": "python",
   "nbconvert_exporter": "python",
   "pygments_lexer": "ipython3",
   "version": "3.13.5"
  }
 },
 "nbformat": 4,
 "nbformat_minor": 5
}
